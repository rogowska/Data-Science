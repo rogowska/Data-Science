{
  "cells": [
    {
      "cell_type": "markdown",
      "metadata": {
        "id": "BG4AXsAOkrIH"
      },
      "source": [
        "### Today we are going to perform the simple classification of the amazon reviews' sentiment.\n",
        "\n",
        "### Please, download the dataset amazon_baby.csv."
      ]
    },
    {
      "cell_type": "code",
      "execution_count": 135,
      "metadata": {
        "id": "FRBYzMR8krIP",
        "outputId": "31de5579-597d-42e5-9eed-6ea89b9b5823",
        "colab": {
          "base_uri": "https://localhost:8080/",
          "height": 224
        }
      },
      "outputs": [
        {
          "output_type": "stream",
          "name": "stdout",
          "text": [
            "Drive already mounted at /content/drive; to attempt to forcibly remount, call drive.mount(\"/content/drive\", force_remount=True).\n"
          ]
        },
        {
          "output_type": "execute_result",
          "data": {
            "text/plain": [
              "                                                name  \\\n",
              "0                           Planetwise Flannel Wipes   \n",
              "1                              Planetwise Wipe Pouch   \n",
              "2                Annas Dream Full Quilt with 2 Shams   \n",
              "3  Stop Pacifier Sucking without tears with Thumb...   \n",
              "4  Stop Pacifier Sucking without tears with Thumb...   \n",
              "\n",
              "                                              review  rating  \n",
              "0  These flannel wipes are OK, but in my opinion ...       3  \n",
              "1  it came early and was not disappointed. i love...       5  \n",
              "2  Very soft and comfortable and warmer than it l...       5  \n",
              "3  This is a product well worth the purchase.  I ...       5  \n",
              "4  All of my kids have cried non-stop when I trie...       5  "
            ],
            "text/html": [
              "\n",
              "  <div id=\"df-d8653de2-c573-4e3a-a68f-8529ad0eb2c0\" class=\"colab-df-container\">\n",
              "    <div>\n",
              "<style scoped>\n",
              "    .dataframe tbody tr th:only-of-type {\n",
              "        vertical-align: middle;\n",
              "    }\n",
              "\n",
              "    .dataframe tbody tr th {\n",
              "        vertical-align: top;\n",
              "    }\n",
              "\n",
              "    .dataframe thead th {\n",
              "        text-align: right;\n",
              "    }\n",
              "</style>\n",
              "<table border=\"1\" class=\"dataframe\">\n",
              "  <thead>\n",
              "    <tr style=\"text-align: right;\">\n",
              "      <th></th>\n",
              "      <th>name</th>\n",
              "      <th>review</th>\n",
              "      <th>rating</th>\n",
              "    </tr>\n",
              "  </thead>\n",
              "  <tbody>\n",
              "    <tr>\n",
              "      <th>0</th>\n",
              "      <td>Planetwise Flannel Wipes</td>\n",
              "      <td>These flannel wipes are OK, but in my opinion ...</td>\n",
              "      <td>3</td>\n",
              "    </tr>\n",
              "    <tr>\n",
              "      <th>1</th>\n",
              "      <td>Planetwise Wipe Pouch</td>\n",
              "      <td>it came early and was not disappointed. i love...</td>\n",
              "      <td>5</td>\n",
              "    </tr>\n",
              "    <tr>\n",
              "      <th>2</th>\n",
              "      <td>Annas Dream Full Quilt with 2 Shams</td>\n",
              "      <td>Very soft and comfortable and warmer than it l...</td>\n",
              "      <td>5</td>\n",
              "    </tr>\n",
              "    <tr>\n",
              "      <th>3</th>\n",
              "      <td>Stop Pacifier Sucking without tears with Thumb...</td>\n",
              "      <td>This is a product well worth the purchase.  I ...</td>\n",
              "      <td>5</td>\n",
              "    </tr>\n",
              "    <tr>\n",
              "      <th>4</th>\n",
              "      <td>Stop Pacifier Sucking without tears with Thumb...</td>\n",
              "      <td>All of my kids have cried non-stop when I trie...</td>\n",
              "      <td>5</td>\n",
              "    </tr>\n",
              "  </tbody>\n",
              "</table>\n",
              "</div>\n",
              "    <div class=\"colab-df-buttons\">\n",
              "\n",
              "  <div class=\"colab-df-container\">\n",
              "    <button class=\"colab-df-convert\" onclick=\"convertToInteractive('df-d8653de2-c573-4e3a-a68f-8529ad0eb2c0')\"\n",
              "            title=\"Convert this dataframe to an interactive table.\"\n",
              "            style=\"display:none;\">\n",
              "\n",
              "  <svg xmlns=\"http://www.w3.org/2000/svg\" height=\"24px\" viewBox=\"0 -960 960 960\">\n",
              "    <path d=\"M120-120v-720h720v720H120Zm60-500h600v-160H180v160Zm220 220h160v-160H400v160Zm0 220h160v-160H400v160ZM180-400h160v-160H180v160Zm440 0h160v-160H620v160ZM180-180h160v-160H180v160Zm440 0h160v-160H620v160Z\"/>\n",
              "  </svg>\n",
              "    </button>\n",
              "\n",
              "  <style>\n",
              "    .colab-df-container {\n",
              "      display:flex;\n",
              "      gap: 12px;\n",
              "    }\n",
              "\n",
              "    .colab-df-convert {\n",
              "      background-color: #E8F0FE;\n",
              "      border: none;\n",
              "      border-radius: 50%;\n",
              "      cursor: pointer;\n",
              "      display: none;\n",
              "      fill: #1967D2;\n",
              "      height: 32px;\n",
              "      padding: 0 0 0 0;\n",
              "      width: 32px;\n",
              "    }\n",
              "\n",
              "    .colab-df-convert:hover {\n",
              "      background-color: #E2EBFA;\n",
              "      box-shadow: 0px 1px 2px rgba(60, 64, 67, 0.3), 0px 1px 3px 1px rgba(60, 64, 67, 0.15);\n",
              "      fill: #174EA6;\n",
              "    }\n",
              "\n",
              "    .colab-df-buttons div {\n",
              "      margin-bottom: 4px;\n",
              "    }\n",
              "\n",
              "    [theme=dark] .colab-df-convert {\n",
              "      background-color: #3B4455;\n",
              "      fill: #D2E3FC;\n",
              "    }\n",
              "\n",
              "    [theme=dark] .colab-df-convert:hover {\n",
              "      background-color: #434B5C;\n",
              "      box-shadow: 0px 1px 3px 1px rgba(0, 0, 0, 0.15);\n",
              "      filter: drop-shadow(0px 1px 2px rgba(0, 0, 0, 0.3));\n",
              "      fill: #FFFFFF;\n",
              "    }\n",
              "  </style>\n",
              "\n",
              "    <script>\n",
              "      const buttonEl =\n",
              "        document.querySelector('#df-d8653de2-c573-4e3a-a68f-8529ad0eb2c0 button.colab-df-convert');\n",
              "      buttonEl.style.display =\n",
              "        google.colab.kernel.accessAllowed ? 'block' : 'none';\n",
              "\n",
              "      async function convertToInteractive(key) {\n",
              "        const element = document.querySelector('#df-d8653de2-c573-4e3a-a68f-8529ad0eb2c0');\n",
              "        const dataTable =\n",
              "          await google.colab.kernel.invokeFunction('convertToInteractive',\n",
              "                                                    [key], {});\n",
              "        if (!dataTable) return;\n",
              "\n",
              "        const docLinkHtml = 'Like what you see? Visit the ' +\n",
              "          '<a target=\"_blank\" href=https://colab.research.google.com/notebooks/data_table.ipynb>data table notebook</a>'\n",
              "          + ' to learn more about interactive tables.';\n",
              "        element.innerHTML = '';\n",
              "        dataTable['output_type'] = 'display_data';\n",
              "        await google.colab.output.renderOutput(dataTable, element);\n",
              "        const docLink = document.createElement('div');\n",
              "        docLink.innerHTML = docLinkHtml;\n",
              "        element.appendChild(docLink);\n",
              "      }\n",
              "    </script>\n",
              "  </div>\n",
              "\n",
              "\n",
              "<div id=\"df-d4b5ab33-13ea-4de0-951f-9c686bbc9781\">\n",
              "  <button class=\"colab-df-quickchart\" onclick=\"quickchart('df-d4b5ab33-13ea-4de0-951f-9c686bbc9781')\"\n",
              "            title=\"Suggest charts\"\n",
              "            style=\"display:none;\">\n",
              "\n",
              "<svg xmlns=\"http://www.w3.org/2000/svg\" height=\"24px\"viewBox=\"0 0 24 24\"\n",
              "     width=\"24px\">\n",
              "    <g>\n",
              "        <path d=\"M19 3H5c-1.1 0-2 .9-2 2v14c0 1.1.9 2 2 2h14c1.1 0 2-.9 2-2V5c0-1.1-.9-2-2-2zM9 17H7v-7h2v7zm4 0h-2V7h2v10zm4 0h-2v-4h2v4z\"/>\n",
              "    </g>\n",
              "</svg>\n",
              "  </button>\n",
              "\n",
              "<style>\n",
              "  .colab-df-quickchart {\n",
              "      --bg-color: #E8F0FE;\n",
              "      --fill-color: #1967D2;\n",
              "      --hover-bg-color: #E2EBFA;\n",
              "      --hover-fill-color: #174EA6;\n",
              "      --disabled-fill-color: #AAA;\n",
              "      --disabled-bg-color: #DDD;\n",
              "  }\n",
              "\n",
              "  [theme=dark] .colab-df-quickchart {\n",
              "      --bg-color: #3B4455;\n",
              "      --fill-color: #D2E3FC;\n",
              "      --hover-bg-color: #434B5C;\n",
              "      --hover-fill-color: #FFFFFF;\n",
              "      --disabled-bg-color: #3B4455;\n",
              "      --disabled-fill-color: #666;\n",
              "  }\n",
              "\n",
              "  .colab-df-quickchart {\n",
              "    background-color: var(--bg-color);\n",
              "    border: none;\n",
              "    border-radius: 50%;\n",
              "    cursor: pointer;\n",
              "    display: none;\n",
              "    fill: var(--fill-color);\n",
              "    height: 32px;\n",
              "    padding: 0;\n",
              "    width: 32px;\n",
              "  }\n",
              "\n",
              "  .colab-df-quickchart:hover {\n",
              "    background-color: var(--hover-bg-color);\n",
              "    box-shadow: 0 1px 2px rgba(60, 64, 67, 0.3), 0 1px 3px 1px rgba(60, 64, 67, 0.15);\n",
              "    fill: var(--button-hover-fill-color);\n",
              "  }\n",
              "\n",
              "  .colab-df-quickchart-complete:disabled,\n",
              "  .colab-df-quickchart-complete:disabled:hover {\n",
              "    background-color: var(--disabled-bg-color);\n",
              "    fill: var(--disabled-fill-color);\n",
              "    box-shadow: none;\n",
              "  }\n",
              "\n",
              "  .colab-df-spinner {\n",
              "    border: 2px solid var(--fill-color);\n",
              "    border-color: transparent;\n",
              "    border-bottom-color: var(--fill-color);\n",
              "    animation:\n",
              "      spin 1s steps(1) infinite;\n",
              "  }\n",
              "\n",
              "  @keyframes spin {\n",
              "    0% {\n",
              "      border-color: transparent;\n",
              "      border-bottom-color: var(--fill-color);\n",
              "      border-left-color: var(--fill-color);\n",
              "    }\n",
              "    20% {\n",
              "      border-color: transparent;\n",
              "      border-left-color: var(--fill-color);\n",
              "      border-top-color: var(--fill-color);\n",
              "    }\n",
              "    30% {\n",
              "      border-color: transparent;\n",
              "      border-left-color: var(--fill-color);\n",
              "      border-top-color: var(--fill-color);\n",
              "      border-right-color: var(--fill-color);\n",
              "    }\n",
              "    40% {\n",
              "      border-color: transparent;\n",
              "      border-right-color: var(--fill-color);\n",
              "      border-top-color: var(--fill-color);\n",
              "    }\n",
              "    60% {\n",
              "      border-color: transparent;\n",
              "      border-right-color: var(--fill-color);\n",
              "    }\n",
              "    80% {\n",
              "      border-color: transparent;\n",
              "      border-right-color: var(--fill-color);\n",
              "      border-bottom-color: var(--fill-color);\n",
              "    }\n",
              "    90% {\n",
              "      border-color: transparent;\n",
              "      border-bottom-color: var(--fill-color);\n",
              "    }\n",
              "  }\n",
              "</style>\n",
              "\n",
              "  <script>\n",
              "    async function quickchart(key) {\n",
              "      const quickchartButtonEl =\n",
              "        document.querySelector('#' + key + ' button');\n",
              "      quickchartButtonEl.disabled = true;  // To prevent multiple clicks.\n",
              "      quickchartButtonEl.classList.add('colab-df-spinner');\n",
              "      try {\n",
              "        const charts = await google.colab.kernel.invokeFunction(\n",
              "            'suggestCharts', [key], {});\n",
              "      } catch (error) {\n",
              "        console.error('Error during call to suggestCharts:', error);\n",
              "      }\n",
              "      quickchartButtonEl.classList.remove('colab-df-spinner');\n",
              "      quickchartButtonEl.classList.add('colab-df-quickchart-complete');\n",
              "    }\n",
              "    (() => {\n",
              "      let quickchartButtonEl =\n",
              "        document.querySelector('#df-d4b5ab33-13ea-4de0-951f-9c686bbc9781 button');\n",
              "      quickchartButtonEl.style.display =\n",
              "        google.colab.kernel.accessAllowed ? 'block' : 'none';\n",
              "    })();\n",
              "  </script>\n",
              "</div>\n",
              "    </div>\n",
              "  </div>\n"
            ]
          },
          "metadata": {},
          "execution_count": 135
        }
      ],
      "source": [
        "import pandas as pd\n",
        "import numpy as np\n",
        "import matplotlib.pyplot as plt\n",
        "import string\n",
        "from sklearn.linear_model import LogisticRegression\n",
        "from sklearn.model_selection import train_test_split\n",
        "from sklearn.feature_extraction.text import CountVectorizer\n",
        "from sklearn.metrics import accuracy_score\n",
        "\n",
        "def remove_punctuation(text):\n",
        "    import string\n",
        "    translator = str.maketrans('', '', string.punctuation)\n",
        "    return text.translate(translator)\n",
        "\n",
        "\n",
        "from google.colab import drive\n",
        "drive.mount('/content/drive')\n",
        "\n",
        "baby_df = pd.read_csv('/content/drive/MyDrive/Colab Notebooks/amazon_baby.csv')\n",
        "baby_df.head()"
      ]
    },
    {
      "cell_type": "markdown",
      "metadata": {
        "id": "PREt2Ad-krIR"
      },
      "source": [
        "## Exercise 1 (data preparation)\n",
        "a) Remove punctuation from reviews using the given function.   \n",
        "b) Replace all missing (nan) revies with empty \"\" string.  \n",
        "c) Drop all the entries with rating = 3, as they have neutral sentiment.   \n",
        "d) Set all positive ($\\geq$4) ratings to 1 and negative($\\leq$2) to -1."
      ]
    },
    {
      "cell_type": "code",
      "execution_count": 136,
      "metadata": {
        "id": "e9HzbTMVkrIS",
        "outputId": "90a0ff6d-c2e6-4454-ba73-972a1f275e03",
        "colab": {
          "base_uri": "https://localhost:8080/"
        }
      },
      "outputs": [
        {
          "output_type": "execute_result",
          "data": {
            "text/plain": [
              "True"
            ]
          },
          "metadata": {},
          "execution_count": 136
        }
      ],
      "source": [
        "#b)\n",
        "\n",
        "baby_df['review'] = baby_df['review'].fillna('')\n",
        "\n",
        "#short test:\n",
        "baby_df[\"review\"][38] == baby_df[\"review\"][38]\n",
        "\n",
        "\n",
        "#in order to remove punctuation, we need to remove NaNs first (replace with strings). Otherwise punctuation function will call exceptions for rows with NaNs, as they are special floating-point type (not string)\n"
      ]
    },
    {
      "cell_type": "code",
      "execution_count": 137,
      "metadata": {
        "id": "OhxCQNbukrIT",
        "outputId": "f4148ce1-5fa0-4913-adf5-05004683d3ed",
        "colab": {
          "base_uri": "https://localhost:8080/"
        }
      },
      "outputs": [
        {
          "output_type": "execute_result",
          "data": {
            "text/plain": [
              "True"
            ]
          },
          "metadata": {},
          "execution_count": 137
        }
      ],
      "source": [
        "#a)\n",
        "\n",
        "baby_df[\"review\"] = baby_df[\"review\"].apply(remove_punctuation)\n",
        "\n",
        "#short test:\n",
        "baby_df[\"review\"][4] == 'All of my kids have cried nonstop when I tried to ween them off their pacifier until I found Thumbuddy To Loves Binky Fairy Puppet  It is an easy way to work with your kids to allow them to understand where their pacifier is going and help them part from itThis is a must buy book and a great gift for expecting parents  You will save them soo many headachesThanks for this book  You all rock'\n",
        "remove_punctuation(baby_df[\"review\"][4]) == 'All of my kids have cried nonstop when I tried to ween them off their pacifier until I found Thumbuddy To Loves Binky Fairy Puppet  It is an easy way to work with your kids to allow them to understand where their pacifier is going and help them part from itThis is a must buy book and a great gift for expecting parents  You will save them soo many headachesThanks for this book  You all rock'\n"
      ]
    },
    {
      "cell_type": "code",
      "execution_count": 138,
      "metadata": {
        "id": "G0wwfKGvkrIT",
        "outputId": "79e2c76f-e324-4120-9474-82646618000f",
        "colab": {
          "base_uri": "https://localhost:8080/"
        }
      },
      "outputs": [
        {
          "output_type": "execute_result",
          "data": {
            "text/plain": [
              "0"
            ]
          },
          "metadata": {},
          "execution_count": 138
        }
      ],
      "source": [
        "#c)\n",
        "\n",
        "baby_df = baby_df[baby_df.rating != 3]\n",
        "\n",
        "#short test:\n",
        "sum(baby_df[\"rating\"] == 3)\n",
        "\n",
        "#test is passed, they are no ratings equal 3\n"
      ]
    },
    {
      "cell_type": "code",
      "execution_count": 139,
      "metadata": {
        "id": "kBps9uTZkrIU",
        "outputId": "907cfa52-b203-46a6-c8af-9e3efdcc8962",
        "colab": {
          "base_uri": "https://localhost:8080/"
        }
      },
      "outputs": [
        {
          "output_type": "stream",
          "name": "stdout",
          "text": [
            "140259\n",
            "26493\n"
          ]
        }
      ],
      "source": [
        "#d)\n",
        "\n",
        "baby_df.loc[baby_df[\"rating\"] <= 2, \"rating\"] = -1\n",
        "baby_df.loc[baby_df[\"rating\"] >= 4, \"rating\"] = 1\n",
        "\n",
        "\n",
        "#using loc to filter column and replace certain values, firstly we need to replace lower values to -1, becouse if we would like to transform high rating first, and set them to 1,\n",
        "#second transformation of low ratings would turn all of the ratings to -1\n",
        "\n",
        "#short test:\n",
        "sum(baby_df[\"rating\"]**2 != 1)\n",
        "\n",
        "#test is passed, because since we replaced all remaining ratings with 1s and -1s, their 2nd power wont result in anything else than 1s\n",
        "\n",
        "print(sum(baby_df[\"rating\"] == 1))\n",
        "print(sum(baby_df[\"rating\"] == -1))"
      ]
    },
    {
      "cell_type": "code",
      "source": [
        "baby_df.head(25)"
      ],
      "metadata": {
        "colab": {
          "base_uri": "https://localhost:8080/",
          "height": 833
        },
        "id": "cB0cR5Vo8uLM",
        "outputId": "6dc49834-3898-4c1c-e0b4-598c794bde45"
      },
      "execution_count": 140,
      "outputs": [
        {
          "output_type": "execute_result",
          "data": {
            "text/plain": [
              "                                                 name  \\\n",
              "1                               Planetwise Wipe Pouch   \n",
              "2                 Annas Dream Full Quilt with 2 Shams   \n",
              "3   Stop Pacifier Sucking without tears with Thumb...   \n",
              "4   Stop Pacifier Sucking without tears with Thumb...   \n",
              "5   Stop Pacifier Sucking without tears with Thumb...   \n",
              "6             A Tale of Baby's Days with Peter Rabbit   \n",
              "7   Baby Tracker&reg; - Daily Childcare Journal, S...   \n",
              "8   Baby Tracker&reg; - Daily Childcare Journal, S...   \n",
              "9   Baby Tracker&reg; - Daily Childcare Journal, S...   \n",
              "10  Baby Tracker&reg; - Daily Childcare Journal, S...   \n",
              "11  Baby Tracker&reg; - Daily Childcare Journal, S...   \n",
              "12  Baby Tracker&reg; - Daily Childcare Journal, S...   \n",
              "14     Nature's Lullabies First Year Sticker Calendar   \n",
              "15     Nature's Lullabies First Year Sticker Calendar   \n",
              "16     Nature's Lullabies First Year Sticker Calendar   \n",
              "17    Nature's Lullabies Second Year Sticker Calendar   \n",
              "18    Nature's Lullabies Second Year Sticker Calendar   \n",
              "19    Nature's Lullabies Second Year Sticker Calendar   \n",
              "20    Nature's Lullabies Second Year Sticker Calendar   \n",
              "21    Nature's Lullabies Second Year Sticker Calendar   \n",
              "22    Nature's Lullabies Second Year Sticker Calendar   \n",
              "24    Nature's Lullabies Second Year Sticker Calendar   \n",
              "25    Nature's Lullabies Second Year Sticker Calendar   \n",
              "26                       Baby's First Journal - Green   \n",
              "28                        Lamaze Peekaboo, I Love You   \n",
              "\n",
              "                                               review  rating  \n",
              "1   it came early and was not disappointed i love ...       1  \n",
              "2   Very soft and comfortable and warmer than it l...       1  \n",
              "3   This is a product well worth the purchase  I h...       1  \n",
              "4   All of my kids have cried nonstop when I tried...       1  \n",
              "5   When the Binky Fairy came to our house we didn...       1  \n",
              "6   Lovely book its bound tightly so you may not b...       1  \n",
              "7   Perfect for new parents We were able to keep t...       1  \n",
              "8   A friend of mine pinned this product on Pinter...       1  \n",
              "9   This has been an easy way for my nanny to reco...       1  \n",
              "10  I love this journal and our nanny uses it ever...       1  \n",
              "11  This book is perfect  Im a first time new mom ...       1  \n",
              "12  I originally just gave the nanny a pad of pape...       1  \n",
              "14  Space for monthly photos info and a lot of use...       1  \n",
              "15  I bought this calender for myself for my secon...       1  \n",
              "16  I love this little calender you can keep track...       1  \n",
              "17  This was the only calender I could find for th...       1  \n",
              "18  I completed a calendar for my sons first year ...       1  \n",
              "19  We wanted to get something to keep track of ou...       1  \n",
              "20  I had a hard time finding a second year calend...       1  \n",
              "21  I only purchased a secondyear calendar for my ...      -1  \n",
              "22  I LOVE this calendar for recording events of m...       1  \n",
              "24  Wife loves this calender Comes with a lot of s...       1  \n",
              "25  My daughter had her 1st baby over a year ago S...       1  \n",
              "26  Extremely useful As a new mom tired and inexpe...       1  \n",
              "28  One of babys first and favorite books and it i...       1  "
            ],
            "text/html": [
              "\n",
              "  <div id=\"df-9d8d2555-4983-40be-8652-574cdbdcfd45\" class=\"colab-df-container\">\n",
              "    <div>\n",
              "<style scoped>\n",
              "    .dataframe tbody tr th:only-of-type {\n",
              "        vertical-align: middle;\n",
              "    }\n",
              "\n",
              "    .dataframe tbody tr th {\n",
              "        vertical-align: top;\n",
              "    }\n",
              "\n",
              "    .dataframe thead th {\n",
              "        text-align: right;\n",
              "    }\n",
              "</style>\n",
              "<table border=\"1\" class=\"dataframe\">\n",
              "  <thead>\n",
              "    <tr style=\"text-align: right;\">\n",
              "      <th></th>\n",
              "      <th>name</th>\n",
              "      <th>review</th>\n",
              "      <th>rating</th>\n",
              "    </tr>\n",
              "  </thead>\n",
              "  <tbody>\n",
              "    <tr>\n",
              "      <th>1</th>\n",
              "      <td>Planetwise Wipe Pouch</td>\n",
              "      <td>it came early and was not disappointed i love ...</td>\n",
              "      <td>1</td>\n",
              "    </tr>\n",
              "    <tr>\n",
              "      <th>2</th>\n",
              "      <td>Annas Dream Full Quilt with 2 Shams</td>\n",
              "      <td>Very soft and comfortable and warmer than it l...</td>\n",
              "      <td>1</td>\n",
              "    </tr>\n",
              "    <tr>\n",
              "      <th>3</th>\n",
              "      <td>Stop Pacifier Sucking without tears with Thumb...</td>\n",
              "      <td>This is a product well worth the purchase  I h...</td>\n",
              "      <td>1</td>\n",
              "    </tr>\n",
              "    <tr>\n",
              "      <th>4</th>\n",
              "      <td>Stop Pacifier Sucking without tears with Thumb...</td>\n",
              "      <td>All of my kids have cried nonstop when I tried...</td>\n",
              "      <td>1</td>\n",
              "    </tr>\n",
              "    <tr>\n",
              "      <th>5</th>\n",
              "      <td>Stop Pacifier Sucking without tears with Thumb...</td>\n",
              "      <td>When the Binky Fairy came to our house we didn...</td>\n",
              "      <td>1</td>\n",
              "    </tr>\n",
              "    <tr>\n",
              "      <th>6</th>\n",
              "      <td>A Tale of Baby's Days with Peter Rabbit</td>\n",
              "      <td>Lovely book its bound tightly so you may not b...</td>\n",
              "      <td>1</td>\n",
              "    </tr>\n",
              "    <tr>\n",
              "      <th>7</th>\n",
              "      <td>Baby Tracker&amp;reg; - Daily Childcare Journal, S...</td>\n",
              "      <td>Perfect for new parents We were able to keep t...</td>\n",
              "      <td>1</td>\n",
              "    </tr>\n",
              "    <tr>\n",
              "      <th>8</th>\n",
              "      <td>Baby Tracker&amp;reg; - Daily Childcare Journal, S...</td>\n",
              "      <td>A friend of mine pinned this product on Pinter...</td>\n",
              "      <td>1</td>\n",
              "    </tr>\n",
              "    <tr>\n",
              "      <th>9</th>\n",
              "      <td>Baby Tracker&amp;reg; - Daily Childcare Journal, S...</td>\n",
              "      <td>This has been an easy way for my nanny to reco...</td>\n",
              "      <td>1</td>\n",
              "    </tr>\n",
              "    <tr>\n",
              "      <th>10</th>\n",
              "      <td>Baby Tracker&amp;reg; - Daily Childcare Journal, S...</td>\n",
              "      <td>I love this journal and our nanny uses it ever...</td>\n",
              "      <td>1</td>\n",
              "    </tr>\n",
              "    <tr>\n",
              "      <th>11</th>\n",
              "      <td>Baby Tracker&amp;reg; - Daily Childcare Journal, S...</td>\n",
              "      <td>This book is perfect  Im a first time new mom ...</td>\n",
              "      <td>1</td>\n",
              "    </tr>\n",
              "    <tr>\n",
              "      <th>12</th>\n",
              "      <td>Baby Tracker&amp;reg; - Daily Childcare Journal, S...</td>\n",
              "      <td>I originally just gave the nanny a pad of pape...</td>\n",
              "      <td>1</td>\n",
              "    </tr>\n",
              "    <tr>\n",
              "      <th>14</th>\n",
              "      <td>Nature's Lullabies First Year Sticker Calendar</td>\n",
              "      <td>Space for monthly photos info and a lot of use...</td>\n",
              "      <td>1</td>\n",
              "    </tr>\n",
              "    <tr>\n",
              "      <th>15</th>\n",
              "      <td>Nature's Lullabies First Year Sticker Calendar</td>\n",
              "      <td>I bought this calender for myself for my secon...</td>\n",
              "      <td>1</td>\n",
              "    </tr>\n",
              "    <tr>\n",
              "      <th>16</th>\n",
              "      <td>Nature's Lullabies First Year Sticker Calendar</td>\n",
              "      <td>I love this little calender you can keep track...</td>\n",
              "      <td>1</td>\n",
              "    </tr>\n",
              "    <tr>\n",
              "      <th>17</th>\n",
              "      <td>Nature's Lullabies Second Year Sticker Calendar</td>\n",
              "      <td>This was the only calender I could find for th...</td>\n",
              "      <td>1</td>\n",
              "    </tr>\n",
              "    <tr>\n",
              "      <th>18</th>\n",
              "      <td>Nature's Lullabies Second Year Sticker Calendar</td>\n",
              "      <td>I completed a calendar for my sons first year ...</td>\n",
              "      <td>1</td>\n",
              "    </tr>\n",
              "    <tr>\n",
              "      <th>19</th>\n",
              "      <td>Nature's Lullabies Second Year Sticker Calendar</td>\n",
              "      <td>We wanted to get something to keep track of ou...</td>\n",
              "      <td>1</td>\n",
              "    </tr>\n",
              "    <tr>\n",
              "      <th>20</th>\n",
              "      <td>Nature's Lullabies Second Year Sticker Calendar</td>\n",
              "      <td>I had a hard time finding a second year calend...</td>\n",
              "      <td>1</td>\n",
              "    </tr>\n",
              "    <tr>\n",
              "      <th>21</th>\n",
              "      <td>Nature's Lullabies Second Year Sticker Calendar</td>\n",
              "      <td>I only purchased a secondyear calendar for my ...</td>\n",
              "      <td>-1</td>\n",
              "    </tr>\n",
              "    <tr>\n",
              "      <th>22</th>\n",
              "      <td>Nature's Lullabies Second Year Sticker Calendar</td>\n",
              "      <td>I LOVE this calendar for recording events of m...</td>\n",
              "      <td>1</td>\n",
              "    </tr>\n",
              "    <tr>\n",
              "      <th>24</th>\n",
              "      <td>Nature's Lullabies Second Year Sticker Calendar</td>\n",
              "      <td>Wife loves this calender Comes with a lot of s...</td>\n",
              "      <td>1</td>\n",
              "    </tr>\n",
              "    <tr>\n",
              "      <th>25</th>\n",
              "      <td>Nature's Lullabies Second Year Sticker Calendar</td>\n",
              "      <td>My daughter had her 1st baby over a year ago S...</td>\n",
              "      <td>1</td>\n",
              "    </tr>\n",
              "    <tr>\n",
              "      <th>26</th>\n",
              "      <td>Baby's First Journal - Green</td>\n",
              "      <td>Extremely useful As a new mom tired and inexpe...</td>\n",
              "      <td>1</td>\n",
              "    </tr>\n",
              "    <tr>\n",
              "      <th>28</th>\n",
              "      <td>Lamaze Peekaboo, I Love You</td>\n",
              "      <td>One of babys first and favorite books and it i...</td>\n",
              "      <td>1</td>\n",
              "    </tr>\n",
              "  </tbody>\n",
              "</table>\n",
              "</div>\n",
              "    <div class=\"colab-df-buttons\">\n",
              "\n",
              "  <div class=\"colab-df-container\">\n",
              "    <button class=\"colab-df-convert\" onclick=\"convertToInteractive('df-9d8d2555-4983-40be-8652-574cdbdcfd45')\"\n",
              "            title=\"Convert this dataframe to an interactive table.\"\n",
              "            style=\"display:none;\">\n",
              "\n",
              "  <svg xmlns=\"http://www.w3.org/2000/svg\" height=\"24px\" viewBox=\"0 -960 960 960\">\n",
              "    <path d=\"M120-120v-720h720v720H120Zm60-500h600v-160H180v160Zm220 220h160v-160H400v160Zm0 220h160v-160H400v160ZM180-400h160v-160H180v160Zm440 0h160v-160H620v160ZM180-180h160v-160H180v160Zm440 0h160v-160H620v160Z\"/>\n",
              "  </svg>\n",
              "    </button>\n",
              "\n",
              "  <style>\n",
              "    .colab-df-container {\n",
              "      display:flex;\n",
              "      gap: 12px;\n",
              "    }\n",
              "\n",
              "    .colab-df-convert {\n",
              "      background-color: #E8F0FE;\n",
              "      border: none;\n",
              "      border-radius: 50%;\n",
              "      cursor: pointer;\n",
              "      display: none;\n",
              "      fill: #1967D2;\n",
              "      height: 32px;\n",
              "      padding: 0 0 0 0;\n",
              "      width: 32px;\n",
              "    }\n",
              "\n",
              "    .colab-df-convert:hover {\n",
              "      background-color: #E2EBFA;\n",
              "      box-shadow: 0px 1px 2px rgba(60, 64, 67, 0.3), 0px 1px 3px 1px rgba(60, 64, 67, 0.15);\n",
              "      fill: #174EA6;\n",
              "    }\n",
              "\n",
              "    .colab-df-buttons div {\n",
              "      margin-bottom: 4px;\n",
              "    }\n",
              "\n",
              "    [theme=dark] .colab-df-convert {\n",
              "      background-color: #3B4455;\n",
              "      fill: #D2E3FC;\n",
              "    }\n",
              "\n",
              "    [theme=dark] .colab-df-convert:hover {\n",
              "      background-color: #434B5C;\n",
              "      box-shadow: 0px 1px 3px 1px rgba(0, 0, 0, 0.15);\n",
              "      filter: drop-shadow(0px 1px 2px rgba(0, 0, 0, 0.3));\n",
              "      fill: #FFFFFF;\n",
              "    }\n",
              "  </style>\n",
              "\n",
              "    <script>\n",
              "      const buttonEl =\n",
              "        document.querySelector('#df-9d8d2555-4983-40be-8652-574cdbdcfd45 button.colab-df-convert');\n",
              "      buttonEl.style.display =\n",
              "        google.colab.kernel.accessAllowed ? 'block' : 'none';\n",
              "\n",
              "      async function convertToInteractive(key) {\n",
              "        const element = document.querySelector('#df-9d8d2555-4983-40be-8652-574cdbdcfd45');\n",
              "        const dataTable =\n",
              "          await google.colab.kernel.invokeFunction('convertToInteractive',\n",
              "                                                    [key], {});\n",
              "        if (!dataTable) return;\n",
              "\n",
              "        const docLinkHtml = 'Like what you see? Visit the ' +\n",
              "          '<a target=\"_blank\" href=https://colab.research.google.com/notebooks/data_table.ipynb>data table notebook</a>'\n",
              "          + ' to learn more about interactive tables.';\n",
              "        element.innerHTML = '';\n",
              "        dataTable['output_type'] = 'display_data';\n",
              "        await google.colab.output.renderOutput(dataTable, element);\n",
              "        const docLink = document.createElement('div');\n",
              "        docLink.innerHTML = docLinkHtml;\n",
              "        element.appendChild(docLink);\n",
              "      }\n",
              "    </script>\n",
              "  </div>\n",
              "\n",
              "\n",
              "<div id=\"df-e83f0476-c365-4e40-8672-b2560b80b8b3\">\n",
              "  <button class=\"colab-df-quickchart\" onclick=\"quickchart('df-e83f0476-c365-4e40-8672-b2560b80b8b3')\"\n",
              "            title=\"Suggest charts\"\n",
              "            style=\"display:none;\">\n",
              "\n",
              "<svg xmlns=\"http://www.w3.org/2000/svg\" height=\"24px\"viewBox=\"0 0 24 24\"\n",
              "     width=\"24px\">\n",
              "    <g>\n",
              "        <path d=\"M19 3H5c-1.1 0-2 .9-2 2v14c0 1.1.9 2 2 2h14c1.1 0 2-.9 2-2V5c0-1.1-.9-2-2-2zM9 17H7v-7h2v7zm4 0h-2V7h2v10zm4 0h-2v-4h2v4z\"/>\n",
              "    </g>\n",
              "</svg>\n",
              "  </button>\n",
              "\n",
              "<style>\n",
              "  .colab-df-quickchart {\n",
              "      --bg-color: #E8F0FE;\n",
              "      --fill-color: #1967D2;\n",
              "      --hover-bg-color: #E2EBFA;\n",
              "      --hover-fill-color: #174EA6;\n",
              "      --disabled-fill-color: #AAA;\n",
              "      --disabled-bg-color: #DDD;\n",
              "  }\n",
              "\n",
              "  [theme=dark] .colab-df-quickchart {\n",
              "      --bg-color: #3B4455;\n",
              "      --fill-color: #D2E3FC;\n",
              "      --hover-bg-color: #434B5C;\n",
              "      --hover-fill-color: #FFFFFF;\n",
              "      --disabled-bg-color: #3B4455;\n",
              "      --disabled-fill-color: #666;\n",
              "  }\n",
              "\n",
              "  .colab-df-quickchart {\n",
              "    background-color: var(--bg-color);\n",
              "    border: none;\n",
              "    border-radius: 50%;\n",
              "    cursor: pointer;\n",
              "    display: none;\n",
              "    fill: var(--fill-color);\n",
              "    height: 32px;\n",
              "    padding: 0;\n",
              "    width: 32px;\n",
              "  }\n",
              "\n",
              "  .colab-df-quickchart:hover {\n",
              "    background-color: var(--hover-bg-color);\n",
              "    box-shadow: 0 1px 2px rgba(60, 64, 67, 0.3), 0 1px 3px 1px rgba(60, 64, 67, 0.15);\n",
              "    fill: var(--button-hover-fill-color);\n",
              "  }\n",
              "\n",
              "  .colab-df-quickchart-complete:disabled,\n",
              "  .colab-df-quickchart-complete:disabled:hover {\n",
              "    background-color: var(--disabled-bg-color);\n",
              "    fill: var(--disabled-fill-color);\n",
              "    box-shadow: none;\n",
              "  }\n",
              "\n",
              "  .colab-df-spinner {\n",
              "    border: 2px solid var(--fill-color);\n",
              "    border-color: transparent;\n",
              "    border-bottom-color: var(--fill-color);\n",
              "    animation:\n",
              "      spin 1s steps(1) infinite;\n",
              "  }\n",
              "\n",
              "  @keyframes spin {\n",
              "    0% {\n",
              "      border-color: transparent;\n",
              "      border-bottom-color: var(--fill-color);\n",
              "      border-left-color: var(--fill-color);\n",
              "    }\n",
              "    20% {\n",
              "      border-color: transparent;\n",
              "      border-left-color: var(--fill-color);\n",
              "      border-top-color: var(--fill-color);\n",
              "    }\n",
              "    30% {\n",
              "      border-color: transparent;\n",
              "      border-left-color: var(--fill-color);\n",
              "      border-top-color: var(--fill-color);\n",
              "      border-right-color: var(--fill-color);\n",
              "    }\n",
              "    40% {\n",
              "      border-color: transparent;\n",
              "      border-right-color: var(--fill-color);\n",
              "      border-top-color: var(--fill-color);\n",
              "    }\n",
              "    60% {\n",
              "      border-color: transparent;\n",
              "      border-right-color: var(--fill-color);\n",
              "    }\n",
              "    80% {\n",
              "      border-color: transparent;\n",
              "      border-right-color: var(--fill-color);\n",
              "      border-bottom-color: var(--fill-color);\n",
              "    }\n",
              "    90% {\n",
              "      border-color: transparent;\n",
              "      border-bottom-color: var(--fill-color);\n",
              "    }\n",
              "  }\n",
              "</style>\n",
              "\n",
              "  <script>\n",
              "    async function quickchart(key) {\n",
              "      const quickchartButtonEl =\n",
              "        document.querySelector('#' + key + ' button');\n",
              "      quickchartButtonEl.disabled = true;  // To prevent multiple clicks.\n",
              "      quickchartButtonEl.classList.add('colab-df-spinner');\n",
              "      try {\n",
              "        const charts = await google.colab.kernel.invokeFunction(\n",
              "            'suggestCharts', [key], {});\n",
              "      } catch (error) {\n",
              "        console.error('Error during call to suggestCharts:', error);\n",
              "      }\n",
              "      quickchartButtonEl.classList.remove('colab-df-spinner');\n",
              "      quickchartButtonEl.classList.add('colab-df-quickchart-complete');\n",
              "    }\n",
              "    (() => {\n",
              "      let quickchartButtonEl =\n",
              "        document.querySelector('#df-e83f0476-c365-4e40-8672-b2560b80b8b3 button');\n",
              "      quickchartButtonEl.style.display =\n",
              "        google.colab.kernel.accessAllowed ? 'block' : 'none';\n",
              "    })();\n",
              "  </script>\n",
              "</div>\n",
              "    </div>\n",
              "  </div>\n"
            ]
          },
          "metadata": {},
          "execution_count": 140
        }
      ]
    },
    {
      "cell_type": "markdown",
      "metadata": {
        "id": "CLmrJw1UkrIV"
      },
      "source": [
        "## CountVectorizer\n",
        "In order to analyze strings, we need to assign them numerical values. We will use one of the simplest string representation, which transforms strings into the $n$ dimensional vectors. The number of dimensions will be the size of our dictionary, and then the values of the vector will represent the number of appereances of the given word in the sentence."
      ]
    },
    {
      "cell_type": "code",
      "execution_count": 141,
      "metadata": {
        "id": "dmTljlkkkrIV",
        "outputId": "966e873b-5c4f-45cb-ec93-9cb363b02574",
        "colab": {
          "base_uri": "https://localhost:8080/"
        }
      },
      "outputs": [
        {
          "output_type": "stream",
          "name": "stdout",
          "text": [
            "['adore' 'and' 'apples' 'bananas' 'dislike' 'hate' 'like' 'oranges' 'they'\n",
            " 'we']\n",
            "[[0 0 1 0 0 0 1 0 0 1]\n",
            " [0 0 0 0 0 1 0 1 0 1]\n",
            " [1 0 0 1 0 0 0 0 0 0]\n",
            " [0 1 1 0 0 0 2 1 0 1]\n",
            " [0 0 0 1 1 0 0 0 1 0]]\n"
          ]
        }
      ],
      "source": [
        "vectorizer = CountVectorizer()\n",
        "reviews_train_example = [\"We like apples\",\n",
        "                   \"We hate oranges\",\n",
        "                   \"I adore bananas\",\n",
        "                   \"We like like apples and oranges\",\n",
        "                   \"They dislike bananas\"]\n",
        "\n",
        "X_train_example = vectorizer.fit_transform(reviews_train_example)\n",
        "\n",
        "print(vectorizer.get_feature_names_out())\n",
        "print(X_train_example.todense())\n",
        "\n"
      ]
    },
    {
      "cell_type": "code",
      "execution_count": 142,
      "metadata": {
        "id": "Aa_YrnzDkrIW",
        "outputId": "6d4c8c37-9861-4dc5-9b89-a9c07be483bd",
        "colab": {
          "base_uri": "https://localhost:8080/"
        }
      },
      "outputs": [
        {
          "output_type": "stream",
          "name": "stdout",
          "text": [
            "[[0 0 0 1 0 0 1 0 1 0]\n",
            " [0 1 1 1 0 1 0 1 0 1]\n",
            " [0 0 0 1 0 0 0 0 0 1]]\n"
          ]
        }
      ],
      "source": [
        "reviews_test_example = [\"They like bananas\",\n",
        "                   \"We hate oranges bananas and apples\",\n",
        "                   \"We love bananas\"] #New word!\n",
        "\n",
        "X_test_example = vectorizer.transform(reviews_test_example)\n",
        "\n",
        "print(X_test_example.todense())"
      ]
    },
    {
      "cell_type": "markdown",
      "metadata": {
        "id": "QS6G8uQFkrIX"
      },
      "source": [
        "We should acknowledge few facts. Firstly, CountVectorizer does not take order into account. Secondly, it ignores one-letter words (this can be changed during initialization). Finally, for test values, CountVectorizer ignores words which are not in it's dictionary."
      ]
    },
    {
      "cell_type": "markdown",
      "metadata": {
        "id": "nmRwM1TqkrIX"
      },
      "source": [
        "## Exercise 2\n",
        "a) Split dataset into training and test sets.     \n",
        "b) Transform reviews into vectors using CountVectorizer."
      ]
    },
    {
      "cell_type": "code",
      "execution_count": 143,
      "metadata": {
        "collapsed": true,
        "id": "n3NF9jIBkrIX"
      },
      "outputs": [],
      "source": [
        "#a)\n",
        "\n",
        "x = baby_df[\"review\"]\n",
        "y = baby_df[\"rating\"]\n",
        "\n",
        "x_train, x_test, y_train, y_test = train_test_split(x, y, test_size=0.4, random_state=44)\n"
      ]
    },
    {
      "cell_type": "code",
      "execution_count": 144,
      "metadata": {
        "collapsed": true,
        "id": "HJSR2gFOkrIX",
        "colab": {
          "base_uri": "https://localhost:8080/"
        },
        "outputId": "4a13036e-b30c-4879-d85e-e449884b68b3"
      },
      "outputs": [
        {
          "output_type": "stream",
          "name": "stdout",
          "text": [
            "['00' '000' '001' ... 'zzzzzz' 'zzzzzzz' 'zzzzzzzzzzz']\n"
          ]
        }
      ],
      "source": [
        "#b)\n",
        "\n",
        "vectorizer = CountVectorizer()\n",
        "\n",
        "x_train_transformed = vectorizer.fit_transform(x_train)\n",
        "\n",
        "print(vectorizer.get_feature_names_out())\n"
      ]
    },
    {
      "cell_type": "markdown",
      "metadata": {
        "id": "oIvWmwMBkrIY"
      },
      "source": [
        "## Exercise 3\n",
        "a) Train LogisticRegression model on training data (reviews processed with CountVectorizer, ratings as they were).   \n",
        "b) Print 10 most positive and 10 most negative words."
      ]
    },
    {
      "cell_type": "code",
      "execution_count": 145,
      "metadata": {
        "collapsed": true,
        "id": "wUYpurn1krIY",
        "colab": {
          "base_uri": "https://localhost:8080/",
          "height": 109
        },
        "outputId": "18ca9ed4-3716-41bf-e451-2ed4d8000406"
      },
      "outputs": [
        {
          "output_type": "stream",
          "name": "stderr",
          "text": [
            "/usr/local/lib/python3.10/dist-packages/sklearn/linear_model/_sag.py:350: ConvergenceWarning: The max_iter was reached which means the coef_ did not converge\n",
            "  warnings.warn(\n"
          ]
        },
        {
          "output_type": "execute_result",
          "data": {
            "text/plain": [
              "LogisticRegression(max_iter=200, solver='sag')"
            ],
            "text/html": [
              "<style>#sk-container-id-7 {color: black;background-color: white;}#sk-container-id-7 pre{padding: 0;}#sk-container-id-7 div.sk-toggleable {background-color: white;}#sk-container-id-7 label.sk-toggleable__label {cursor: pointer;display: block;width: 100%;margin-bottom: 0;padding: 0.3em;box-sizing: border-box;text-align: center;}#sk-container-id-7 label.sk-toggleable__label-arrow:before {content: \"▸\";float: left;margin-right: 0.25em;color: #696969;}#sk-container-id-7 label.sk-toggleable__label-arrow:hover:before {color: black;}#sk-container-id-7 div.sk-estimator:hover label.sk-toggleable__label-arrow:before {color: black;}#sk-container-id-7 div.sk-toggleable__content {max-height: 0;max-width: 0;overflow: hidden;text-align: left;background-color: #f0f8ff;}#sk-container-id-7 div.sk-toggleable__content pre {margin: 0.2em;color: black;border-radius: 0.25em;background-color: #f0f8ff;}#sk-container-id-7 input.sk-toggleable__control:checked~div.sk-toggleable__content {max-height: 200px;max-width: 100%;overflow: auto;}#sk-container-id-7 input.sk-toggleable__control:checked~label.sk-toggleable__label-arrow:before {content: \"▾\";}#sk-container-id-7 div.sk-estimator input.sk-toggleable__control:checked~label.sk-toggleable__label {background-color: #d4ebff;}#sk-container-id-7 div.sk-label input.sk-toggleable__control:checked~label.sk-toggleable__label {background-color: #d4ebff;}#sk-container-id-7 input.sk-hidden--visually {border: 0;clip: rect(1px 1px 1px 1px);clip: rect(1px, 1px, 1px, 1px);height: 1px;margin: -1px;overflow: hidden;padding: 0;position: absolute;width: 1px;}#sk-container-id-7 div.sk-estimator {font-family: monospace;background-color: #f0f8ff;border: 1px dotted black;border-radius: 0.25em;box-sizing: border-box;margin-bottom: 0.5em;}#sk-container-id-7 div.sk-estimator:hover {background-color: #d4ebff;}#sk-container-id-7 div.sk-parallel-item::after {content: \"\";width: 100%;border-bottom: 1px solid gray;flex-grow: 1;}#sk-container-id-7 div.sk-label:hover label.sk-toggleable__label {background-color: #d4ebff;}#sk-container-id-7 div.sk-serial::before {content: \"\";position: absolute;border-left: 1px solid gray;box-sizing: border-box;top: 0;bottom: 0;left: 50%;z-index: 0;}#sk-container-id-7 div.sk-serial {display: flex;flex-direction: column;align-items: center;background-color: white;padding-right: 0.2em;padding-left: 0.2em;position: relative;}#sk-container-id-7 div.sk-item {position: relative;z-index: 1;}#sk-container-id-7 div.sk-parallel {display: flex;align-items: stretch;justify-content: center;background-color: white;position: relative;}#sk-container-id-7 div.sk-item::before, #sk-container-id-7 div.sk-parallel-item::before {content: \"\";position: absolute;border-left: 1px solid gray;box-sizing: border-box;top: 0;bottom: 0;left: 50%;z-index: -1;}#sk-container-id-7 div.sk-parallel-item {display: flex;flex-direction: column;z-index: 1;position: relative;background-color: white;}#sk-container-id-7 div.sk-parallel-item:first-child::after {align-self: flex-end;width: 50%;}#sk-container-id-7 div.sk-parallel-item:last-child::after {align-self: flex-start;width: 50%;}#sk-container-id-7 div.sk-parallel-item:only-child::after {width: 0;}#sk-container-id-7 div.sk-dashed-wrapped {border: 1px dashed gray;margin: 0 0.4em 0.5em 0.4em;box-sizing: border-box;padding-bottom: 0.4em;background-color: white;}#sk-container-id-7 div.sk-label label {font-family: monospace;font-weight: bold;display: inline-block;line-height: 1.2em;}#sk-container-id-7 div.sk-label-container {text-align: center;}#sk-container-id-7 div.sk-container {/* jupyter's `normalize.less` sets `[hidden] { display: none; }` but bootstrap.min.css set `[hidden] { display: none !important; }` so we also need the `!important` here to be able to override the default hidden behavior on the sphinx rendered scikit-learn.org. See: https://github.com/scikit-learn/scikit-learn/issues/21755 */display: inline-block !important;position: relative;}#sk-container-id-7 div.sk-text-repr-fallback {display: none;}</style><div id=\"sk-container-id-7\" class=\"sk-top-container\"><div class=\"sk-text-repr-fallback\"><pre>LogisticRegression(max_iter=200, solver=&#x27;sag&#x27;)</pre><b>In a Jupyter environment, please rerun this cell to show the HTML representation or trust the notebook. <br />On GitHub, the HTML representation is unable to render, please try loading this page with nbviewer.org.</b></div><div class=\"sk-container\" hidden><div class=\"sk-item\"><div class=\"sk-estimator sk-toggleable\"><input class=\"sk-toggleable__control sk-hidden--visually\" id=\"sk-estimator-id-7\" type=\"checkbox\" checked><label for=\"sk-estimator-id-7\" class=\"sk-toggleable__label sk-toggleable__label-arrow\">LogisticRegression</label><div class=\"sk-toggleable__content\"><pre>LogisticRegression(max_iter=200, solver=&#x27;sag&#x27;)</pre></div></div></div></div></div>"
            ]
          },
          "metadata": {},
          "execution_count": 145
        }
      ],
      "source": [
        "#a)\n",
        "model = LogisticRegression(solver='sag', max_iter=200)\n",
        "model.fit(x_train_transformed, y_train)"
      ]
    },
    {
      "cell_type": "code",
      "execution_count": 146,
      "metadata": {
        "collapsed": true,
        "id": "eI4gdghakrIY",
        "colab": {
          "base_uri": "https://localhost:8080/"
        },
        "outputId": "430eff12-4446-4af3-c133-67a67e5676a4"
      },
      "outputs": [
        {
          "output_type": "stream",
          "name": "stdout",
          "text": [
            "Positive words:\n",
            "52683        loves\n",
            "65253      perfect\n",
            "52615         love\n",
            "31053         easy\n",
            "13735         best\n",
            "41933        happy\n",
            "65305    perfectly\n",
            "40390        great\n",
            "35885         fits\n",
            "33257      exactly\n",
            "Name: values, dtype: object\n",
            "Negative words:\n",
            "93772    unfortunately\n",
            "44990             idea\n",
            "16612            broke\n",
            "74087        returning\n",
            "67455             poor\n",
            "94961          useless\n",
            "97136            waste\n",
            "74061           return\n",
            "74068         returned\n",
            "28403     disappointed\n",
            "Name: values, dtype: object\n"
          ]
        }
      ],
      "source": [
        "#b)\n",
        "\n",
        "d = {'coefs':model.coef_[0],'values':vectorizer.get_feature_names_out()}\n",
        "df = pd.DataFrame(d)\n",
        "\n",
        "df = df.sort_values(\"coefs\", ascending=False)\n",
        "\n",
        "print(\"Positive words:\")\n",
        "print(df.head(10)[\"values\"])\n",
        "print(\"Negative words:\")\n",
        "print(df.tail(10)[\"values\"])\n",
        "\n",
        "#I zipped coefficients and corresponding values in dictionary and made a dataframe out of it to sort it descending by coefficient values"
      ]
    },
    {
      "cell_type": "markdown",
      "metadata": {
        "id": "s9C84-1-krIY"
      },
      "source": [
        "## Exercise 4\n",
        "a) Predict the sentiment of test data reviews.   \n",
        "b) Predict the sentiment of test data reviews in terms of probability.   \n",
        "c) Find five most positive and most negative reviews.   \n",
        "d) Calculate the accuracy of predictions."
      ]
    },
    {
      "cell_type": "code",
      "execution_count": 147,
      "metadata": {
        "collapsed": true,
        "id": "29myAimykrIZ"
      },
      "outputs": [],
      "source": [
        "#a)\n",
        "\n",
        "x_test_transformed = vectorizer.transform(x_test)\n",
        "\n",
        "y_pred = model.predict(x_test_transformed)\n",
        "\n",
        "#we transform test data using vectorizer we used to fit data"
      ]
    },
    {
      "cell_type": "code",
      "execution_count": 148,
      "metadata": {
        "collapsed": true,
        "id": "BtuOL2w4krIZ",
        "colab": {
          "base_uri": "https://localhost:8080/"
        },
        "outputId": "5175072f-d19d-406e-d7b2-6bbfcd38dd2e"
      },
      "outputs": [
        {
          "output_type": "stream",
          "name": "stdout",
          "text": [
            "[-1  1]\n"
          ]
        }
      ],
      "source": [
        "#b)\n",
        "\n",
        "y_pred_proba = model.predict_proba(x_test_transformed)\n",
        "\n",
        "print(model.classes_)\n",
        "\n",
        "#classes we got predictions for are -1 and 1, for negative and positive reviews."
      ]
    },
    {
      "cell_type": "code",
      "execution_count": 149,
      "metadata": {
        "collapsed": true,
        "id": "8Q218GRakrIZ",
        "colab": {
          "base_uri": "https://localhost:8080/"
        },
        "outputId": "753c7cad-4b27-4dd1-8fab-5e60122e05c6"
      },
      "outputs": [
        {
          "output_type": "stream",
          "name": "stdout",
          "text": [
            "Positive reviews:\n",
            "60298     This review is going to compare 3 JuJuBe bags ...\n",
            "158209    updated 32213 After extensive research trial a...\n",
            "116083    Ive had this stroller for a little more than s...\n",
            "69511     Ive had this stroller for a little more than s...\n",
            "42430     new to cloth diapering trying to figure out if...\n",
            "Name: values, dtype: object\n",
            "Negative reviews:\n",
            "57234     My husband and I are VERY disappointed and sho...\n",
            "10370     This product should be in the hall of fame sol...\n",
            "133297    The first monitor broke within 1 month of use ...\n",
            "120209    This is the first review I have ever written o...\n",
            "87026     First off I did manage to find this product fo...\n",
            "Name: values, dtype: object\n"
          ]
        }
      ],
      "source": [
        "#c)\n",
        "\n",
        "d = {'predictions':y_pred_proba[:, 0],'values': x_test}\n",
        "#we create a dictionary of probability that the review is negative and corresponding review\n",
        "df = pd.DataFrame(d)\n",
        "\n",
        "df = df.sort_values(\"predictions\")\n",
        "\n",
        "print(\"Positive reviews:\")\n",
        "print(df.head(5)[\"values\"])\n",
        "print(\"Negative reviews:\")\n",
        "print(df.tail(5)[\"values\"])\n",
        "\n",
        "#since we sorted the values ascending, we get smallest probablity values first, which means that probabilty of first reviews to be negative is really low,\n",
        "#and the highest probability of reviews being negative is for the last ones"
      ]
    },
    {
      "cell_type": "code",
      "execution_count": 155,
      "metadata": {
        "collapsed": true,
        "id": "kQR-6u4QkrIZ",
        "colab": {
          "base_uri": "https://localhost:8080/"
        },
        "outputId": "070dae68-330e-43b9-cb78-b5f2aa02758a"
      },
      "outputs": [
        {
          "output_type": "stream",
          "name": "stdout",
          "text": [
            "Model accuracy [0.93%]\n",
            "Model accuracy [0.93%]\n"
          ]
        }
      ],
      "source": [
        "#d)\n",
        "\n",
        "print(f\"Model accuracy [{round(model.score(x_test_transformed, y_test), 2)}%]\")\n",
        "print(f\"Model accuracy [{round(accuracy_score(y_test, y_pred), 2)}%]\")\n"
      ]
    },
    {
      "cell_type": "markdown",
      "metadata": {
        "id": "WTWNc_0YkrIZ"
      },
      "source": [
        "## Exercise 5\n",
        "In this exercise we will limit the dictionary of CountVectorizer to the set of significant words, defined below.\n",
        "\n",
        "\n",
        "a) Redo exercises 2-5 using limited dictionary.   \n",
        "b) Check the impact of all the words from the dictionary.   \n",
        "c) Compare accuracy of predictions and the time of evaluation."
      ]
    },
    {
      "cell_type": "code",
      "execution_count": null,
      "metadata": {
        "collapsed": true,
        "id": "pFqDNJ82krIZ"
      },
      "outputs": [],
      "source": [
        "significant_words = ['love','great','easy','old','little','perfect','loves','well','able','car','broke','less','even','waste','disappointed','work','product','money','would','return']"
      ]
    },
    {
      "cell_type": "code",
      "execution_count": null,
      "metadata": {
        "collapsed": true,
        "id": "80eZvWAFkrIa"
      },
      "outputs": [],
      "source": [
        "#a)\n"
      ]
    },
    {
      "cell_type": "code",
      "execution_count": null,
      "metadata": {
        "collapsed": true,
        "id": "3vtwZXL4krIa"
      },
      "outputs": [],
      "source": [
        "#b)\n"
      ]
    },
    {
      "cell_type": "code",
      "execution_count": null,
      "metadata": {
        "collapsed": true,
        "id": "sheihh20krIf"
      },
      "outputs": [],
      "source": [
        "#c)\n",
        "\n",
        "#hint: %time, %timeit"
      ]
    }
  ],
  "metadata": {
    "anaconda-cloud": {},
    "kernelspec": {
      "display_name": "Python [conda env:anaconda2]",
      "language": "python",
      "name": "conda-env-anaconda2-py"
    },
    "language_info": {
      "codemirror_mode": {
        "name": "ipython",
        "version": 2
      },
      "file_extension": ".py",
      "mimetype": "text/x-python",
      "name": "python",
      "nbconvert_exporter": "python",
      "pygments_lexer": "ipython2",
      "version": "2.7.12"
    },
    "colab": {
      "provenance": []
    }
  },
  "nbformat": 4,
  "nbformat_minor": 0
}